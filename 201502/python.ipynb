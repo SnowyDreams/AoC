{
 "cells": [
  {
   "cell_type": "markdown",
   "metadata": {},
   "source": [
    "Part One"
   ]
  },
  {
   "cell_type": "code",
   "execution_count": 18,
   "metadata": {},
   "outputs": [
    {
     "name": "stdout",
     "output_type": "stream",
     "text": [
      "1598415\n"
     ]
    }
   ],
   "source": [
    "input = open(\"input.txt\", \"r\").readlines()\n",
    "wrap = 0\n",
    "\n",
    "for line in input:\n",
    "    d = line.rstrip().split(\"x\") # d as in Dimentions\n",
    "    \n",
    "    l, w, h = int(d[0]),int(d[1]),int(d[2])\n",
    "    s = [l*w, w*h, l*h] # s as in Surfaces\n",
    "    s.sort()\n",
    "    \n",
    "    wrap += 3*s[0] + 2*s[1] + 2*s[2] # surface area of the gift with extra of the smallest face\n",
    "\n",
    "print(wrap)"
   ]
  },
  {
   "cell_type": "markdown",
   "metadata": {},
   "source": [
    "Part Two"
   ]
  },
  {
   "cell_type": "code",
   "execution_count": 30,
   "metadata": {},
   "outputs": [
    {
     "name": "stdout",
     "output_type": "stream",
     "text": [
      "3812909\n"
     ]
    }
   ],
   "source": [
    "input = open(\"input.txt\", \"r\").readlines()\n",
    "ribbon = 0\n",
    "\n",
    "for line in input:\n",
    "    d = []\n",
    "    for num in line.rstrip().split(\"x\"):\n",
    "        d.append(int(num))  # d as in Dimentions\n",
    "    d.sort()\n",
    "\n",
    "    ribbon += 2*d[0] + 2*d[1] + d[0]*d[1]*d[2]\n",
    "\n",
    "print(ribbon)"
   ]
  }
 ],
 "metadata": {
  "interpreter": {
   "hash": "e7370f93d1d0cde622a1f8e1c04877d8463912d04d973331ad4851f04de6915a"
  },
  "kernelspec": {
   "display_name": "Python 3.10.8 64-bit",
   "language": "python",
   "name": "python3"
  },
  "language_info": {
   "codemirror_mode": {
    "name": "ipython",
    "version": 3
   },
   "file_extension": ".py",
   "mimetype": "text/x-python",
   "name": "python",
   "nbconvert_exporter": "python",
   "pygments_lexer": "ipython3",
   "version": "3.10.8"
  },
  "orig_nbformat": 4
 },
 "nbformat": 4,
 "nbformat_minor": 2
}
