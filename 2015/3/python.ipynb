{
 "cells": [
  {
   "cell_type": "markdown",
   "metadata": {},
   "source": [
    "Part One"
   ]
  },
  {
   "cell_type": "code",
   "execution_count": 66,
   "metadata": {},
   "outputs": [
    {
     "name": "stdout",
     "output_type": "stream",
     "text": [
      "2592\n"
     ]
    }
   ],
   "source": [
    "input = open(\"input.txt\", \"r\").read()\n",
    "\n",
    "deliveries = [[0,0]]\n",
    "deliveredHouses = []\n",
    "\n",
    "for i,d in enumerate(input): # d stands for direction\n",
    "    house = [deliveries[i][0],deliveries[i][1]]\n",
    "    match d:\n",
    "        case \"^\":\n",
    "            house[1] += 1\n",
    "        case \"v\":\n",
    "            house[1] -= 1\n",
    "        case \">\":\n",
    "            house[0] += 1\n",
    "        case \"<\":\n",
    "            house[0] -= 1\n",
    "\n",
    "    deliveries.append(house)\n",
    "\n",
    "for house in deliveries:\n",
    "    deliveredHouses.append((house[0],house[1]))\n",
    "\n",
    "print(len(set(deliveredHouses)))\n",
    "\n",
    "    "
   ]
  },
  {
   "cell_type": "markdown",
   "metadata": {},
   "source": [
    "Part Two"
   ]
  },
  {
   "cell_type": "code",
   "execution_count": 70,
   "metadata": {},
   "outputs": [
    {
     "name": "stdout",
     "output_type": "stream",
     "text": [
      "2360\n"
     ]
    }
   ],
   "source": [
    "input = open(\"input.txt\", \"r\").read()\n",
    "\n",
    "deliveries = [[0,0],[0,0]]\n",
    "deliveredHouses = []\n",
    "for i,d in enumerate(input): # d stands for direction\n",
    "    house = [deliveries[i][0],deliveries[i][1]]\n",
    "    match d:\n",
    "        case \"^\":\n",
    "            house[1] += 1\n",
    "        case \"v\":\n",
    "            house[1] -= 1\n",
    "        case \">\":\n",
    "            house[0] += 1\n",
    "        case \"<\":\n",
    "            house[0] -= 1\n",
    "\n",
    "    deliveries.append(house)\n",
    "\n",
    "for house in deliveries:\n",
    "    deliveredHouses.append((house[0],house[1]))\n",
    "\n",
    "print(len(set(deliveredHouses)))\n",
    "\n",
    "    "
   ]
  }
 ],
 "metadata": {
  "interpreter": {
   "hash": "e7370f93d1d0cde622a1f8e1c04877d8463912d04d973331ad4851f04de6915a"
  },
  "kernelspec": {
   "display_name": "Python 3.10.8 64-bit",
   "language": "python",
   "name": "python3"
  },
  "language_info": {
   "codemirror_mode": {
    "name": "ipython",
    "version": 3
   },
   "file_extension": ".py",
   "mimetype": "text/x-python",
   "name": "python",
   "nbconvert_exporter": "python",
   "pygments_lexer": "ipython3",
   "version": "3.10.8"
  },
  "orig_nbformat": 4
 },
 "nbformat": 4,
 "nbformat_minor": 2
}
