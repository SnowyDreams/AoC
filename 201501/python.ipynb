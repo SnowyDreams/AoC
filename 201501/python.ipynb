{
 "cells": [
  {
   "cell_type": "markdown",
   "metadata": {},
   "source": [
    "Part One"
   ]
  },
  {
   "cell_type": "code",
   "execution_count": 1,
   "metadata": {},
   "outputs": [
    {
     "name": "stdout",
     "output_type": "stream",
     "text": [
      "74\n"
     ]
    }
   ],
   "source": [
    "instruction = open(\"input.txt\", \"r\").read()\n",
    "floor = 0\n",
    "\n",
    "\n",
    "for char in instruction:\n",
    "    if char == \"(\":\n",
    "        floor += 1\n",
    "    elif char == \")\":\n",
    "        floor -= 1\n",
    "    else:\n",
    "        continue\n",
    "\n",
    "print(floor)"
   ]
  },
  {
   "cell_type": "markdown",
   "metadata": {},
   "source": [
    "Part Two"
   ]
  },
  {
   "cell_type": "code",
   "execution_count": 4,
   "metadata": {},
   "outputs": [
    {
     "name": "stdout",
     "output_type": "stream",
     "text": [
      "1795\n"
     ]
    }
   ],
   "source": [
    "input = open(\"input.txt\", \"r\").read()\n",
    "floor = 0\n",
    "\n",
    "\n",
    "for count, char in enumerate(input, start=1):\n",
    "    if char == \"(\":\n",
    "        floor += 1\n",
    "    elif char == \")\":\n",
    "        floor -= 1\n",
    "    else:\n",
    "        continue\n",
    "\n",
    "    if floor == -1:\n",
    "        print(count)\n",
    "        break"
   ]
  }
 ],
 "metadata": {
  "interpreter": {
   "hash": "e7370f93d1d0cde622a1f8e1c04877d8463912d04d973331ad4851f04de6915a"
  },
  "kernelspec": {
   "display_name": "Python 3.10.6 64-bit",
   "language": "python",
   "name": "python3"
  },
  "language_info": {
   "codemirror_mode": {
    "name": "ipython",
    "version": 3
   },
   "file_extension": ".py",
   "mimetype": "text/x-python",
   "name": "python",
   "nbconvert_exporter": "python",
   "pygments_lexer": "ipython3",
   "version": "3.10.8"
  },
  "orig_nbformat": 4
 },
 "nbformat": 4,
 "nbformat_minor": 2
}
